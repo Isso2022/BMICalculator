{
 "cells": [
  {
   "cell_type": "code",
   "execution_count": null,
   "id": "84a6fe58",
   "metadata": {},
   "outputs": [],
   "source": [
    "name = input(\"Enter your name: \")\n",
    "age = input(\"Enter your age: \")\n",
    "weight = int(input(\"Enter your weight in kg: \"))\n",
    "height = int(input(\"Enter your height in cm: \"))\n",
    "BMI = weight / (height * height)\n",
    "print(BMI)\n",
    "\n",
    "if 0 < BMI < 16:\n",
    "    print(name + \" you are Severe Thinness\")\n",
    "elif BMI <= 17:\n",
    "    print(name + \" you are Moderate Thinness\")\n",
    "elif BMI <= 18.5:\n",
    "    print(name + \" you are Mild Thinness\")\n",
    "elif BMI <= 25:\n",
    "    print(name + \" you are Normal\")\n",
    "elif BMI <= 30:\n",
    "    print(name + \" you are Overweight\")\n",
    "elif BMI <= 35:\n",
    "    print(name + \" you are Obese Class I\")\n",
    "elif BMI <= 40:\n",
    "    print(name + \" you are Obese Class II\")\n",
    "elif BMI > 40:\n",
    "    print(name + \" you are Obese Class III\")\n",
    "else:\n",
    "    print('Please enter valid data')"
   ]
  },
  {
   "cell_type": "code",
   "execution_count": null,
   "id": "37177f5d",
   "metadata": {},
   "outputs": [],
   "source": []
  }
 ],
 "metadata": {
  "kernelspec": {
   "display_name": "Python 3 (ipykernel)",
   "language": "python",
   "name": "python3"
  },
  "language_info": {
   "codemirror_mode": {
    "name": "ipython",
    "version": 3
   },
   "file_extension": ".py",
   "mimetype": "text/x-python",
   "name": "python",
   "nbconvert_exporter": "python",
   "pygments_lexer": "ipython3",
   "version": "3.11.4"
  }
 },
 "nbformat": 4,
 "nbformat_minor": 5
}
